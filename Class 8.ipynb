{
 "cells": [
  {
   "cell_type": "code",
   "execution_count": 1,
   "id": "35504236",
   "metadata": {},
   "outputs": [],
   "source": [
    "#while loop"
   ]
  },
  {
   "cell_type": "code",
   "execution_count": 2,
   "id": "d3a4ddd1",
   "metadata": {},
   "outputs": [
    {
     "name": "stdout",
     "output_type": "stream",
     "text": [
      "1\n",
      "2\n",
      "3\n",
      "4\n"
     ]
    }
   ],
   "source": [
    "a= 1\n",
    "while a < 5:\n",
    "    print(a)\n",
    "    a = a+1"
   ]
  },
  {
   "cell_type": "code",
   "execution_count": 5,
   "id": "42b43428",
   "metadata": {},
   "outputs": [],
   "source": [
    "# for loop"
   ]
  },
  {
   "cell_type": "code",
   "execution_count": 6,
   "id": "8c54d9b7",
   "metadata": {},
   "outputs": [
    {
     "data": {
      "text/plain": [
       "[0, 1, 2, 3, 4]"
      ]
     },
     "execution_count": 6,
     "metadata": {},
     "output_type": "execute_result"
    }
   ],
   "source": [
    "list(range(5))"
   ]
  },
  {
   "cell_type": "code",
   "execution_count": 7,
   "id": "4546cc3c",
   "metadata": {},
   "outputs": [
    {
     "data": {
      "text/plain": [
       "range(0, 5)"
      ]
     },
     "execution_count": 7,
     "metadata": {},
     "output_type": "execute_result"
    }
   ],
   "source": [
    "range(5)"
   ]
  },
  {
   "cell_type": "code",
   "execution_count": 9,
   "id": "d8033a5c",
   "metadata": {},
   "outputs": [
    {
     "data": {
      "text/plain": [
       "(0, 1, 2, 3, 4)"
      ]
     },
     "execution_count": 9,
     "metadata": {},
     "output_type": "execute_result"
    }
   ],
   "source": [
    "tuple(range(5))"
   ]
  },
  {
   "cell_type": "code",
   "execution_count": 10,
   "id": "c210e6a1",
   "metadata": {},
   "outputs": [
    {
     "name": "stdout",
     "output_type": "stream",
     "text": [
      "0\n",
      "1\n",
      "2\n",
      "3\n",
      "4\n"
     ]
    }
   ],
   "source": [
    "for i in range(5):\n",
    "    print(i)"
   ]
  },
  {
   "cell_type": "code",
   "execution_count": 14,
   "id": "60a57fbb",
   "metadata": {},
   "outputs": [
    {
     "name": "stdout",
     "output_type": "stream",
     "text": [
      "5\n",
      "6\n",
      "7\n",
      "8\n",
      "9\n"
     ]
    }
   ],
   "source": [
    "#start,end\n",
    "for i in range(5,10):\n",
    "    print(i)"
   ]
  },
  {
   "cell_type": "code",
   "execution_count": 15,
   "id": "c8646170",
   "metadata": {},
   "outputs": [
    {
     "name": "stdout",
     "output_type": "stream",
     "text": [
      "1\n",
      "4\n",
      "7\n"
     ]
    }
   ],
   "source": [
    "#start, end, interval(3 means will skip 2 steps)\n",
    "for i in range(1, 10, 3):\n",
    "    print(i)"
   ]
  },
  {
   "cell_type": "code",
   "execution_count": 16,
   "id": "0119b42d",
   "metadata": {},
   "outputs": [],
   "source": [
    "# Assignment\n",
    "# a = [2, 4, 6, 8]"
   ]
  },
  {
   "cell_type": "code",
   "execution_count": 23,
   "id": "70fcd80f",
   "metadata": {},
   "outputs": [
    {
     "name": "stdout",
     "output_type": "stream",
     "text": [
      "[2, 4, 6, 8]\n"
     ]
    }
   ],
   "source": [
    "L=[]\n",
    "for i in range(1,10):\n",
    "    if i%2 == 0:\n",
    "        L.append(i)\n",
    "print(L)"
   ]
  },
  {
   "cell_type": "code",
   "execution_count": 24,
   "id": "bdc9f5ad",
   "metadata": {},
   "outputs": [
    {
     "name": "stdout",
     "output_type": "stream",
     "text": [
      "[1, 3, 5, 7, 9]\n"
     ]
    }
   ],
   "source": [
    "# Fpr odd number\n",
    "L=[]\n",
    "for i in range(1,10):\n",
    "    if i%2 == 1:\n",
    "        L.append(i)\n",
    "print(L)"
   ]
  },
  {
   "cell_type": "code",
   "execution_count": 25,
   "id": "09aa5907",
   "metadata": {},
   "outputs": [],
   "source": [
    "# a = \"sachin123tendulkar007\"\n",
    "# out1 = \"sachintendulkar\"\n",
    "# # out2 = \"123007\""
   ]
  },
  {
   "cell_type": "code",
   "execution_count": 65,
   "id": "cdb58903",
   "metadata": {},
   "outputs": [
    {
     "name": "stdout",
     "output_type": "stream",
     "text": [
      "123007\n",
      "sachintendulkar\n"
     ]
    }
   ],
   "source": [
    "a = \"sachin123tendulkar007\"\n",
    "out1 = \"\"\n",
    "out2 = \"\"\n",
    "for i in a:\n",
    "#     print(i) this gives the splitted item in a row\n",
    "    if i.isdigit():\n",
    "        out1 =out1 + i\n",
    "    if i.isalpha():\n",
    "        out2 = out2 + i\n",
    "print(out1)\n",
    "print(out2)"
   ]
  },
  {
   "cell_type": "code",
   "execution_count": 54,
   "id": "cb8e5a7e",
   "metadata": {},
   "outputs": [],
   "source": [
    "# # a = \"sachin123tendulkar007\"\n",
    "\n",
    "# # out1 = \"sachintendulkar\"\n",
    "\n",
    "# # out2 = \"123007\"\n",
    "\n",
    "# xxxxxxxxxx\n",
    "\n",
    "# a = [\"arun\", \"sachintendulkar\", \"viratkholi\", \"dhoni\"]\n",
    "\n",
    "# #name lenght > 8\n",
    "\n",
    "# #it should end with I\n",
    "\n",
    "# out = [\"viratkholi\"]"
   ]
  },
  {
   "cell_type": "code",
   "execution_count": 66,
   "id": "93ac3fea",
   "metadata": {},
   "outputs": [
    {
     "name": "stdout",
     "output_type": "stream",
     "text": [
      "['viratkholi']\n"
     ]
    }
   ],
   "source": [
    "a = [\"arun\", \"sachintendulkar\", \"viratkholi\", \"dhoni\"]\n",
    "b = []\n",
    "\n",
    "for i in a:\n",
    "#     print(i)\n",
    "    if (len(i) > 8) and i[-1] == \"i\":\n",
    "#     b += i # ['v', 'i', 'r', 'a', 't', 'k', 'h', 'o', 'l', 'i']\n",
    "        b.append(i)\n",
    "        \n",
    "print(b)"
   ]
  },
  {
   "cell_type": "code",
   "execution_count": null,
   "id": "74d99cce",
   "metadata": {},
   "outputs": [],
   "source": []
  }
 ],
 "metadata": {
  "kernelspec": {
   "display_name": "Python 3 (ipykernel)",
   "language": "python",
   "name": "python3"
  },
  "language_info": {
   "codemirror_mode": {
    "name": "ipython",
    "version": 3
   },
   "file_extension": ".py",
   "mimetype": "text/x-python",
   "name": "python",
   "nbconvert_exporter": "python",
   "pygments_lexer": "ipython3",
   "version": "3.11.5"
  }
 },
 "nbformat": 4,
 "nbformat_minor": 5
}
